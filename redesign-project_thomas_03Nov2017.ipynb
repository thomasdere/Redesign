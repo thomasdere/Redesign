{
 "cells": [
  {
   "cell_type": "markdown",
   "metadata": {
    "deletable": true,
    "editable": true
   },
   "source": [
    "# Data Visualization Redesign Project - Derek Thomas - 03Nov2017"
   ]
  },
  {
   "cell_type": "markdown",
   "metadata": {
    "deletable": true,
    "editable": true
   },
   "source": [
    "## Define the environment for the Dataframe"
   ]
  },
  {
   "cell_type": "code",
   "execution_count": 43,
   "metadata": {
    "ExecuteTime": {
     "end_time": "2017-10-03T03:44:12.729222Z",
     "start_time": "2017-10-03T03:44:12.720705Z"
    },
    "collapsed": true,
    "deletable": true,
    "editable": true
   },
   "outputs": [],
   "source": [
    "import pandas as pd\n",
    "import numpy as np\n",
    "import urllib3\n",
    "http = urllib3.PoolManager()\n",
    "import string\n",
    "import re\n",
    "import json\n",
    "from collections import OrderedDict\n",
    "import warnings\n",
    "warnings.filterwarnings('ignore')"
   ]
  },
  {
   "cell_type": "markdown",
   "metadata": {
    "ExecuteTime": {
     "end_time": "2017-09-23T13:35:42.618725Z",
     "start_time": "2017-09-23T13:35:42.615218Z"
    },
    "deletable": true,
    "editable": true
   },
   "source": [
    "## Import the College Rankings .csv file and create initial Dataframe"
   ]
  },
  {
   "cell_type": "code",
   "execution_count": 44,
   "metadata": {
    "ExecuteTime": {
     "end_time": "2017-10-03T03:44:15.705468Z",
     "start_time": "2017-10-03T03:44:15.480153Z"
    },
    "collapsed": false,
    "deletable": true,
    "editable": true
   },
   "outputs": [
    {
     "data": {
      "text/html": [
       "<div>\n",
       "<style>\n",
       "    .dataframe thead tr:only-child th {\n",
       "        text-align: right;\n",
       "    }\n",
       "\n",
       "    .dataframe thead th {\n",
       "        text-align: left;\n",
       "    }\n",
       "\n",
       "    .dataframe tbody tr th {\n",
       "        vertical-align: top;\n",
       "    }\n",
       "</style>\n",
       "<table border=\"1\" class=\"dataframe\">\n",
       "  <thead>\n",
       "    <tr style=\"text-align: right;\">\n",
       "      <th></th>\n",
       "      <th>Order</th>\n",
       "      <th>College Name</th>\n",
       "      <th>City and State</th>\n",
       "      <th>Money Ranking</th>\n",
       "      <th>Median SAT/ACT score</th>\n",
       "      <th>Est. price 2017-18 without aid</th>\n",
       "      <th>Est. price 2017-18 with avg. grant</th>\n",
       "      <th>% who get need-based grants</th>\n",
       "      <th>% who get merit grants</th>\n",
       "      <th>Business major early career earnings</th>\n",
       "    </tr>\n",
       "  </thead>\n",
       "  <tbody>\n",
       "    <tr>\n",
       "      <th>0</th>\n",
       "      <td>1.0</td>\n",
       "      <td>University of California-Berkeley</td>\n",
       "      <td>Berkeley, CA</td>\n",
       "      <td>4.0</td>\n",
       "      <td>1370/32</td>\n",
       "      <td>$37,220</td>\n",
       "      <td>$17,929</td>\n",
       "      <td>48%</td>\n",
       "      <td>1%</td>\n",
       "      <td>$72,100</td>\n",
       "    </tr>\n",
       "    <tr>\n",
       "      <th>1</th>\n",
       "      <td>2.0</td>\n",
       "      <td>Washington and Lee University</td>\n",
       "      <td>Lexington, VA</td>\n",
       "      <td>16.0</td>\n",
       "      <td>1390/32</td>\n",
       "      <td>$65,737</td>\n",
       "      <td>$23,089</td>\n",
       "      <td>41%</td>\n",
       "      <td>10%</td>\n",
       "      <td>$60,000</td>\n",
       "    </tr>\n",
       "    <tr>\n",
       "      <th>2</th>\n",
       "      <td>3.0</td>\n",
       "      <td>University of Pennsylvania</td>\n",
       "      <td>Philadelphia, PA</td>\n",
       "      <td>27.0</td>\n",
       "      <td>1460/33</td>\n",
       "      <td>$71,074</td>\n",
       "      <td>$25,838</td>\n",
       "      <td>47%</td>\n",
       "      <td>NaN</td>\n",
       "      <td>$69,200</td>\n",
       "    </tr>\n",
       "    <tr>\n",
       "      <th>3</th>\n",
       "      <td>4.0</td>\n",
       "      <td>Brown University</td>\n",
       "      <td>Providence, RI</td>\n",
       "      <td>34.0</td>\n",
       "      <td>1440/32</td>\n",
       "      <td>$69,809</td>\n",
       "      <td>$24,794</td>\n",
       "      <td>44%</td>\n",
       "      <td>NaN</td>\n",
       "      <td>$64,100</td>\n",
       "    </tr>\n",
       "  </tbody>\n",
       "</table>\n",
       "</div>"
      ],
      "text/plain": [
       "   Order                       College Name    City and State  Money Ranking  \\\n",
       "0    1.0  University of California-Berkeley      Berkeley, CA            4.0   \n",
       "1    2.0      Washington and Lee University     Lexington, VA           16.0   \n",
       "2    3.0         University of Pennsylvania  Philadelphia, PA           27.0   \n",
       "3    4.0                   Brown University    Providence, RI           34.0   \n",
       "\n",
       "  Median SAT/ACT score Est. price 2017-18 without aid  \\\n",
       "0              1370/32                       $37,220    \n",
       "1              1390/32                       $65,737    \n",
       "2              1460/33                       $71,074    \n",
       "3              1440/32                       $69,809    \n",
       "\n",
       "  Est. price 2017-18 with avg. grant % who get need-based grants  \\\n",
       "0                           $17,929                          48%   \n",
       "1                           $23,089                          41%   \n",
       "2                           $25,838                          47%   \n",
       "3                           $24,794                          44%   \n",
       "\n",
       "  % who get merit grants Business major early career earnings  \n",
       "0                     1%                             $72,100   \n",
       "1                    10%                             $60,000   \n",
       "2                    NaN                             $69,200   \n",
       "3                    NaN                             $64,100   "
      ]
     },
     "execution_count": 44,
     "metadata": {},
     "output_type": "execute_result"
    }
   ],
   "source": [
    "df = pd.read_csv('Data-Visualization-Redesign.csv', header=0,)\n",
    "df.head(4)"
   ]
  },
  {
   "cell_type": "markdown",
   "metadata": {
    "deletable": true,
    "editable": true
   },
   "source": [
    "## Import the referenced raw Dept of Education source data"
   ]
  },
  {
   "cell_type": "markdown",
   "metadata": {
    "deletable": true,
    "editable": true
   },
   "source": [
    "### Identify the Degree Concentration areas and save to the variable \"degreeColumns\""
   ]
  },
  {
   "cell_type": "code",
   "execution_count": 45,
   "metadata": {
    "collapsed": true,
    "deletable": true,
    "editable": true
   },
   "outputs": [],
   "source": [
    "degreeColumns = ['PCIP01', # Agriculture, Agriculture Operations, and Related Sciences\n",
    "                 'PCIP03', # Natural Resources and Conservation\n",
    "                 'PCIP04', # Architecture and Related Services\n",
    "                 'PCIP05', # Area, Ethnic, Cultural, Gender, and Group Studies\n",
    "                 'PCIP09', # Communication, Journalism, and Related Programs\n",
    "                 'PCIP10', # Communications Technologies/Technicians and Support Services\n",
    "                 'PCIP11', # Computer and Information Sciences and Support Services\n",
    "                 'PCIP12', # Personal and Culinary Services\n",
    "                 'PCIP13', # Education\n",
    "                 'PCIP14', # Engineering\n",
    "                 'PCIP15', # Engineering Technologies and Engineering-Related Fields\n",
    "                 'PCIP16', # Foreign Languages, Literatures, and Linguistics\n",
    "                 'PCIP19', # Family and Consumer Sciences/Human Sciences\n",
    "                 'PCIP22', # Legal Professions and Studies\n",
    "                 'PCIP23', # English Language and Literature/Letters\n",
    "                 'PCIP24', # Liberal Arts and Sciences, General Studies and Humanities\n",
    "                 'PCIP25', # Library Science\n",
    "                 'PCIP26', # Biological and Biomedical Sciences\n",
    "                 'PCIP27', # Mathematics and Statistics\n",
    "                 'PCIP29', # Military Technologies and Applied Sciences\n",
    "                 'PCIP30', # Multi/Interdisciplinary Studies\n",
    "                 'PCIP31', # Parks, Recreation, Leisure, and Fitness Studies\n",
    "                 'PCIP38', # Philosophy and Religious Studies\n",
    "                 'PCIP39', # Theology and Religious Vocations\n",
    "                 'PCIP40', # Physical Sciences\n",
    "                 'PCIP41', # Science Technologies/Technicians\n",
    "                 'PCIP42', # Psychology\n",
    "                 'PCIP43', # Homeland Security, Law Enforcement, Firefighting and Related Protective Services\n",
    "                 'PCIP44', # Public Administration and Social Service Professions\n",
    "                 'PCIP45', # Social Sciences\n",
    "                 'PCIP46', # Construction Trades\n",
    "                 'PCIP47', # Mechanic and Repair Technologies/Technicians\n",
    "                 'PCIP48', # Precision Production\n",
    "                 'PCIP49', # Transportation and Materials Moving\n",
    "                 'PCIP50', # Visual and Performing Arts\n",
    "                 'PCIP51', # Health Professions and Related Programs\n",
    "                 'PCIP52', # Business, Management, Marketing, and Related Support Services\n",
    "                 'PCIP54'] # History\n",
    "          "
   ]
  },
  {
   "cell_type": "markdown",
   "metadata": {
    "deletable": true,
    "editable": true
   },
   "source": [
    "### Read in source csv value, only retrieving applicable columns from data set"
   ]
  },
  {
   "cell_type": "code",
   "execution_count": 46,
   "metadata": {
    "collapsed": false,
    "deletable": true,
    "editable": true
   },
   "outputs": [
    {
     "data": {
      "text/html": [
       "<div>\n",
       "<style>\n",
       "    .dataframe thead tr:only-child th {\n",
       "        text-align: right;\n",
       "    }\n",
       "\n",
       "    .dataframe thead th {\n",
       "        text-align: left;\n",
       "    }\n",
       "\n",
       "    .dataframe tbody tr th {\n",
       "        vertical-align: top;\n",
       "    }\n",
       "</style>\n",
       "<table border=\"1\" class=\"dataframe\">\n",
       "  <thead>\n",
       "    <tr style=\"text-align: right;\">\n",
       "      <th></th>\n",
       "      <th>UNITID</th>\n",
       "      <th>INSTNM</th>\n",
       "      <th>CITY</th>\n",
       "      <th>STABBR</th>\n",
       "      <th>ZIP</th>\n",
       "      <th>HIGHDEG</th>\n",
       "      <th>CONTROL</th>\n",
       "      <th>REGION</th>\n",
       "      <th>LATITUDE</th>\n",
       "      <th>LONGITUDE</th>\n",
       "      <th>...</th>\n",
       "      <th>PCIP48</th>\n",
       "      <th>PCIP49</th>\n",
       "      <th>PCIP50</th>\n",
       "      <th>PCIP51</th>\n",
       "      <th>PCIP52</th>\n",
       "      <th>PCIP54</th>\n",
       "      <th>CIP52BACHL</th>\n",
       "      <th>COSTT4_A</th>\n",
       "      <th>COSTT4_P</th>\n",
       "      <th>PCTPELL</th>\n",
       "    </tr>\n",
       "  </thead>\n",
       "  <tbody>\n",
       "    <tr>\n",
       "      <th>0</th>\n",
       "      <td>100654</td>\n",
       "      <td>Alabama A &amp; M University</td>\n",
       "      <td>Normal</td>\n",
       "      <td>AL</td>\n",
       "      <td>35762</td>\n",
       "      <td>4</td>\n",
       "      <td>1</td>\n",
       "      <td>5</td>\n",
       "      <td>34.783368</td>\n",
       "      <td>-86.568502</td>\n",
       "      <td>...</td>\n",
       "      <td>0.0</td>\n",
       "      <td>0.0</td>\n",
       "      <td>0.0258</td>\n",
       "      <td>0.0000</td>\n",
       "      <td>0.1479</td>\n",
       "      <td>0.0000</td>\n",
       "      <td>2.0</td>\n",
       "      <td>20809.0</td>\n",
       "      <td>NaN</td>\n",
       "      <td>0.7249</td>\n",
       "    </tr>\n",
       "    <tr>\n",
       "      <th>1</th>\n",
       "      <td>100663</td>\n",
       "      <td>University of Alabama at Birmingham</td>\n",
       "      <td>Birmingham</td>\n",
       "      <td>AL</td>\n",
       "      <td>35294-0110</td>\n",
       "      <td>4</td>\n",
       "      <td>1</td>\n",
       "      <td>5</td>\n",
       "      <td>33.502230</td>\n",
       "      <td>-86.809170</td>\n",
       "      <td>...</td>\n",
       "      <td>0.0</td>\n",
       "      <td>0.0</td>\n",
       "      <td>0.0376</td>\n",
       "      <td>0.2231</td>\n",
       "      <td>0.1837</td>\n",
       "      <td>0.0188</td>\n",
       "      <td>1.0</td>\n",
       "      <td>22232.0</td>\n",
       "      <td>NaN</td>\n",
       "      <td>0.3505</td>\n",
       "    </tr>\n",
       "  </tbody>\n",
       "</table>\n",
       "<p>2 rows × 56 columns</p>\n",
       "</div>"
      ],
      "text/plain": [
       "   UNITID                               INSTNM        CITY STABBR         ZIP  \\\n",
       "0  100654             Alabama A & M University      Normal     AL       35762   \n",
       "1  100663  University of Alabama at Birmingham  Birmingham     AL  35294-0110   \n",
       "\n",
       "   HIGHDEG  CONTROL  REGION   LATITUDE  LONGITUDE   ...     PCIP48  PCIP49  \\\n",
       "0        4        1       5  34.783368 -86.568502   ...        0.0     0.0   \n",
       "1        4        1       5  33.502230 -86.809170   ...        0.0     0.0   \n",
       "\n",
       "   PCIP50  PCIP51  PCIP52  PCIP54  CIP52BACHL  COSTT4_A  COSTT4_P  PCTPELL  \n",
       "0  0.0258  0.0000  0.1479  0.0000         2.0   20809.0       NaN   0.7249  \n",
       "1  0.0376  0.2231  0.1837  0.0188         1.0   22232.0       NaN   0.3505  \n",
       "\n",
       "[2 rows x 56 columns]"
      ]
     },
     "execution_count": 46,
     "metadata": {},
     "output_type": "execute_result"
    }
   ],
   "source": [
    "dfSchools = pd.read_csv('MERGED2015_16_PP.csv',\n",
    "                header=0,\n",
    "                usecols=(['UNITID',    # Unit ID for institution\n",
    "                        'INSTNM',      # Institution name\n",
    "                        'CITY',        # City\n",
    "                        'STABBR',      # State postcode\n",
    "                        'ZIP',         # ZIP code\n",
    "                        'HIGHDEG',     # Highest degree awarded: 0-Non Degree;1-Certificate;2-Associate;3-Bachelor's;4-Graduate\n",
    "                        'CONTROL',     # Control of institution: 1-Public;2-Private nonprofit;3-Private for-profit\n",
    "                        'REGION',      # Region: 1-New England;2-Mid Ease;3-Great Lakes;4-Plains;5-Southease;6-Southwest;7-Rocky Mountains;8-Far West;9-Outlying Areas\n",
    "                        'LATITUDE',    # Latitude (Decimal)\n",
    "                        'LONGITUDE',   # Longitude (Decimal)\n",
    "                        'CCUGPROF',    # Carnegie Classification - undergraduate profile: >= 5 for Four-year programs\n",
    "                        'ADM_RATE',    # Admission Rate\n",
    "                        'ACTCMMID',    # Midpoint of the ACT cumulative score\n",
    "                        'SAT_AVG'] +   # Average SAT equivalent score of students admitted\n",
    "                        degreeColumns +# List of Percentage of degrees awarded for all majors\n",
    "                        ['CIP52BACHL',  # Bachelor's degree in Business, Management, Marketing, And Related Support Services\n",
    "                        'COSTT4_A',    # Average cost of attendance (academic year institutions)\n",
    "                        'COSTT4_P',    # Average cost of attendance (program-year institutions)\n",
    "                        'PCTPELL']))   # Percentage of undergraduates who receive a Pell Grant\n",
    "dfSchools.head(2)"
   ]
  },
  {
   "cell_type": "code",
   "execution_count": 47,
   "metadata": {
    "collapsed": false,
    "deletable": true,
    "editable": true
   },
   "outputs": [
    {
     "data": {
      "text/plain": [
       "7593"
      ]
     },
     "execution_count": 47,
     "metadata": {},
     "output_type": "execute_result"
    }
   ],
   "source": [
    "len(dfSchools) # Total number of records prior to filtering"
   ]
  },
  {
   "cell_type": "markdown",
   "metadata": {
    "deletable": true,
    "editable": true
   },
   "source": [
    "### Calculate percentage of Business Degrees awarded compared to all others for 4-year Undergraduate programs"
   ]
  },
  {
   "cell_type": "markdown",
   "metadata": {
    "deletable": true,
    "editable": true
   },
   "source": [
    "### Rename data set columns identifying the \"Percentage of Degrees\" awarded for each major concentration area"
   ]
  },
  {
   "cell_type": "code",
   "execution_count": 48,
   "metadata": {
    "collapsed": false,
    "deletable": true,
    "editable": true
   },
   "outputs": [
    {
     "data": {
      "text/html": [
       "<div>\n",
       "<style>\n",
       "    .dataframe thead tr:only-child th {\n",
       "        text-align: right;\n",
       "    }\n",
       "\n",
       "    .dataframe thead th {\n",
       "        text-align: left;\n",
       "    }\n",
       "\n",
       "    .dataframe tbody tr th {\n",
       "        vertical-align: top;\n",
       "    }\n",
       "</style>\n",
       "<table border=\"1\" class=\"dataframe\">\n",
       "  <thead>\n",
       "    <tr style=\"text-align: right;\">\n",
       "      <th></th>\n",
       "      <th>Deg Name</th>\n",
       "    </tr>\n",
       "    <tr>\n",
       "      <th>DegID</th>\n",
       "      <th></th>\n",
       "    </tr>\n",
       "  </thead>\n",
       "  <tbody>\n",
       "    <tr>\n",
       "      <th>PCIP01</th>\n",
       "      <td>Agriculture, Agriculture Operations, and Relat...</td>\n",
       "    </tr>\n",
       "    <tr>\n",
       "      <th>PCIP03</th>\n",
       "      <td>Natural Resources and Conservation</td>\n",
       "    </tr>\n",
       "  </tbody>\n",
       "</table>\n",
       "</div>"
      ],
      "text/plain": [
       "                                                 Deg Name\n",
       "DegID                                                    \n",
       "PCIP01  Agriculture, Agriculture Operations, and Relat...\n",
       "PCIP03                 Natural Resources and Conservation"
      ]
     },
     "execution_count": 48,
     "metadata": {},
     "output_type": "execute_result"
    }
   ],
   "source": [
    "dfDegreeData = pd.DataFrame([{'DegID' : 'PCIP01', 'Deg Name' : 'Agriculture, Agriculture Operations, and Related Sciences'},\n",
    "                {'DegID' : 'PCIP03', 'Deg Name' : 'Natural Resources and Conservation'},\n",
    "                {'DegID' : 'PCIP04', 'Deg Name' : 'Architecture and Related Services'},\n",
    "                {'DegID' : 'PCIP05', 'Deg Name' : 'Area, Ethnic, Cultural, Gender, and Group Studies'},\n",
    "                {'DegID' : 'PCIP09', 'Deg Name' : 'Communication, Journalism, and Related Programs'},\n",
    "                {'DegID' : 'PCIP10', 'Deg Name' : 'Communications Technologies/Technicians and Support Services'},\n",
    "                {'DegID' : 'PCIP11', 'Deg Name' : 'Computer and Information Sciences and Support Services'},\n",
    "                {'DegID' : 'PCIP12', 'Deg Name' : 'Personal and Culinary Services'},\n",
    "                {'DegID' : 'PCIP13', 'Deg Name' : 'Education'},\n",
    "                {'DegID' : 'PCIP14', 'Deg Name' : 'Engineering'},\n",
    "                {'DegID' : 'PCIP15', 'Deg Name' : 'Engineering Technologies and Engineering-Related Fields'},\n",
    "                {'DegID' : 'PCIP16', 'Deg Name' : 'Foreign Languages, Literatures, and Linguistics'},\n",
    "                {'DegID' : 'PCIP19', 'Deg Name' : 'Family and Consumer Sciences/Human Sciences'},\n",
    "                {'DegID' : 'PCIP22', 'Deg Name' : 'Legal Professions and Studies'},\n",
    "                {'DegID' : 'PCIP23', 'Deg Name' : 'English Language and Literature/Letters'},\n",
    "                {'DegID' : 'PCIP24', 'Deg Name' : 'Liberal Arts and Sciences, General Studies and Humanities'},\n",
    "                {'DegID' : 'PCIP25', 'Deg Name' : 'Library Science'},\n",
    "                {'DegID' : 'PCIP26', 'Deg Name' : 'Biological and Biomedical Sciences'},\n",
    "                {'DegID' : 'PCIP27', 'Deg Name' : 'Mathematics and Statistics'},\n",
    "                {'DegID' : 'PCIP29', 'Deg Name' : 'Military Technologies and Applied Sciences'},\n",
    "                {'DegID' : 'PCIP30', 'Deg Name' : 'Multi/Interdisciplinary Studies'},\n",
    "                {'DegID' : 'PCIP31', 'Deg Name' : 'Parks, Recreation, Leisure, and Fitness Studies'},\n",
    "                {'DegID' : 'PCIP38', 'Deg Name' : 'Philosophy and Religious Studies'},\n",
    "                {'DegID' : 'PCIP39', 'Deg Name' : 'Theology and Religious Vocations'},\n",
    "                {'DegID' : 'PCIP40', 'Deg Name' : 'Physical Sciences'},\n",
    "                {'DegID' : 'PCIP41', 'Deg Name' : 'Science Technologies/Technicians'},\n",
    "                {'DegID' : 'PCIP42', 'Deg Name' : 'Psychology'},\n",
    "                {'DegID' : 'PCIP43', 'Deg Name' : 'Homeland Security, Law Enforcement, Firefighting and Related Protective Services'},\n",
    "                {'DegID' : 'PCIP44', 'Deg Name' : 'Public Administration and Social Service Professions'},\n",
    "                {'DegID' : 'PCIP45', 'Deg Name' : 'Social Sciences'},\n",
    "                {'DegID' : 'PCIP46', 'Deg Name' : 'Construction Trades'},\n",
    "                {'DegID' : 'PCIP47', 'Deg Name' : 'Mechanic and Repair Technologies/Technicians'},\n",
    "                {'DegID' : 'PCIP48', 'Deg Name' : 'Precision Production'},\n",
    "                {'DegID' : 'PCIP49', 'Deg Name' : 'Transportation and Materials Moving'},\n",
    "                {'DegID' : 'PCIP50', 'Deg Name' : 'Visual and Performing Arts'},\n",
    "                {'DegID' : 'PCIP51', 'Deg Name' : 'Health Professions and Related Programs'},\n",
    "                {'DegID' : 'PCIP52', 'Deg Name' : 'Business, Management, Marketing, and Related Support Services'},\n",
    "                {'DegID' : 'PCIP54', 'Deg Name' : 'History'}])\n",
    "dfDegreeData = dfDegreeData.set_index('DegID')\n",
    "dfDegreeData.head(2)"
   ]
  },
  {
   "cell_type": "code",
   "execution_count": 49,
   "metadata": {
    "collapsed": false,
    "deletable": true,
    "editable": true
   },
   "outputs": [
    {
     "data": {
      "text/html": [
       "<div>\n",
       "<style>\n",
       "    .dataframe thead tr:only-child th {\n",
       "        text-align: right;\n",
       "    }\n",
       "\n",
       "    .dataframe thead th {\n",
       "        text-align: left;\n",
       "    }\n",
       "\n",
       "    .dataframe tbody tr th {\n",
       "        vertical-align: top;\n",
       "    }\n",
       "</style>\n",
       "<table border=\"1\" class=\"dataframe\">\n",
       "  <thead>\n",
       "    <tr style=\"text-align: right;\">\n",
       "      <th></th>\n",
       "      <th>UNITID</th>\n",
       "      <th>INSTNM</th>\n",
       "      <th>CITY</th>\n",
       "      <th>STABBR</th>\n",
       "      <th>ZIP</th>\n",
       "      <th>HIGHDEG</th>\n",
       "      <th>CONTROL</th>\n",
       "      <th>REGION</th>\n",
       "      <th>LATITUDE</th>\n",
       "      <th>LONGITUDE</th>\n",
       "      <th>...</th>\n",
       "      <th>PCIP48</th>\n",
       "      <th>PCIP49</th>\n",
       "      <th>PCIP50</th>\n",
       "      <th>PCIP51</th>\n",
       "      <th>PCIP52</th>\n",
       "      <th>PCIP54</th>\n",
       "      <th>CIP52BACHL</th>\n",
       "      <th>COSTT4_A</th>\n",
       "      <th>COSTT4_P</th>\n",
       "      <th>PCTPELL</th>\n",
       "    </tr>\n",
       "  </thead>\n",
       "  <tbody>\n",
       "    <tr>\n",
       "      <th>0</th>\n",
       "      <td>100654</td>\n",
       "      <td>Alabama A &amp; M University</td>\n",
       "      <td>Normal</td>\n",
       "      <td>AL</td>\n",
       "      <td>35762</td>\n",
       "      <td>4</td>\n",
       "      <td>1</td>\n",
       "      <td>5</td>\n",
       "      <td>34.783368</td>\n",
       "      <td>-86.568502</td>\n",
       "      <td>...</td>\n",
       "      <td>0.0</td>\n",
       "      <td>0.0</td>\n",
       "      <td>0.0258</td>\n",
       "      <td>0.0000</td>\n",
       "      <td>0.1479</td>\n",
       "      <td>0.0000</td>\n",
       "      <td>2.0</td>\n",
       "      <td>20809.0</td>\n",
       "      <td>NaN</td>\n",
       "      <td>0.7249</td>\n",
       "    </tr>\n",
       "    <tr>\n",
       "      <th>1</th>\n",
       "      <td>100663</td>\n",
       "      <td>University of Alabama at Birmingham</td>\n",
       "      <td>Birmingham</td>\n",
       "      <td>AL</td>\n",
       "      <td>35294-0110</td>\n",
       "      <td>4</td>\n",
       "      <td>1</td>\n",
       "      <td>5</td>\n",
       "      <td>33.502230</td>\n",
       "      <td>-86.809170</td>\n",
       "      <td>...</td>\n",
       "      <td>0.0</td>\n",
       "      <td>0.0</td>\n",
       "      <td>0.0376</td>\n",
       "      <td>0.2231</td>\n",
       "      <td>0.1837</td>\n",
       "      <td>0.0188</td>\n",
       "      <td>1.0</td>\n",
       "      <td>22232.0</td>\n",
       "      <td>NaN</td>\n",
       "      <td>0.3505</td>\n",
       "    </tr>\n",
       "  </tbody>\n",
       "</table>\n",
       "<p>2 rows × 56 columns</p>\n",
       "</div>"
      ],
      "text/plain": [
       "   UNITID                               INSTNM        CITY STABBR         ZIP  \\\n",
       "0  100654             Alabama A & M University      Normal     AL       35762   \n",
       "1  100663  University of Alabama at Birmingham  Birmingham     AL  35294-0110   \n",
       "\n",
       "   HIGHDEG  CONTROL  REGION   LATITUDE  LONGITUDE   ...     PCIP48  PCIP49  \\\n",
       "0        4        1       5  34.783368 -86.568502   ...        0.0     0.0   \n",
       "1        4        1       5  33.502230 -86.809170   ...        0.0     0.0   \n",
       "\n",
       "   PCIP50  PCIP51  PCIP52  PCIP54  CIP52BACHL  COSTT4_A  COSTT4_P  PCTPELL  \n",
       "0  0.0258  0.0000  0.1479  0.0000         2.0   20809.0       NaN   0.7249  \n",
       "1  0.0376  0.2231  0.1837  0.0188         1.0   22232.0       NaN   0.3505  \n",
       "\n",
       "[2 rows x 56 columns]"
      ]
     },
     "execution_count": 49,
     "metadata": {},
     "output_type": "execute_result"
    }
   ],
   "source": [
    "MajorTotals = dfSchools[((dfSchools['HIGHDEG'] >= 3) &\n",
    "                           (dfSchools['CCUGPROF'] >= 6) &\n",
    "                           (dfSchools['PCIP52'] > 0))]\n",
    "MajorTotals.head(2)"
   ]
  },
  {
   "cell_type": "code",
   "execution_count": 50,
   "metadata": {
    "collapsed": false,
    "deletable": true,
    "editable": true
   },
   "outputs": [
    {
     "data": {
      "text/plain": [
       "1809"
      ]
     },
     "execution_count": 50,
     "metadata": {},
     "output_type": "execute_result"
    }
   ],
   "source": [
    "len(MajorTotals)"
   ]
  },
  {
   "cell_type": "code",
   "execution_count": 51,
   "metadata": {
    "collapsed": false,
    "deletable": true,
    "editable": true
   },
   "outputs": [
    {
     "data": {
      "text/plain": [
       "PCIP52    359.6532\n",
       "PCIP51    282.8241\n",
       "PCIP13     95.6981\n",
       "PCIP50     94.7589\n",
       "PCIP42     94.1417\n",
       "PCIP26     83.7716\n",
       "PCIP11     82.6194\n",
       "PCIP45     77.4936\n",
       "PCIP43     72.0524\n",
       "PCIP24     65.4174\n",
       "PCIP09     58.4406\n",
       "PCIP15     48.5480\n",
       "PCIP31     44.2491\n",
       "PCIP14     43.3545\n",
       "PCIP23     34.3616\n",
       "PCIP44     33.5107\n",
       "PCIP30     29.9669\n",
       "PCIP39     29.7830\n",
       "PCIP12     22.2473\n",
       "PCIP54     21.2933\n",
       "PCIP40     20.1386\n",
       "PCIP27     14.6695\n",
       "PCIP19     13.4795\n",
       "PCIP03     12.6760\n",
       "PCIP38     11.5718\n",
       "PCIP16     10.9742\n",
       "PCIP01     10.2394\n",
       "PCIP22      9.1615\n",
       "PCIP10      6.6495\n",
       "PCIP47      5.6515\n",
       "PCIP49      4.8796\n",
       "PCIP04      4.8419\n",
       "PCIP05      4.4965\n",
       "PCIP46      3.0009\n",
       "PCIP48      1.6792\n",
       "PCIP29      0.3619\n",
       "PCIP41      0.3193\n",
       "PCIP25      0.0250\n",
       "dtype: float64"
      ]
     },
     "execution_count": 51,
     "metadata": {},
     "output_type": "execute_result"
    }
   ],
   "source": [
    "cumMajTotals = MajorTotals[degreeColumns].sum().sort_values(ascending=False)\n",
    "cumMajTotals"
   ]
  },
  {
   "cell_type": "code",
   "execution_count": 52,
   "metadata": {
    "collapsed": false,
    "deletable": true,
    "editable": true
   },
   "outputs": [
    {
     "data": {
      "text/html": [
       "<div>\n",
       "<style>\n",
       "    .dataframe thead tr:only-child th {\n",
       "        text-align: right;\n",
       "    }\n",
       "\n",
       "    .dataframe thead th {\n",
       "        text-align: left;\n",
       "    }\n",
       "\n",
       "    .dataframe tbody tr th {\n",
       "        vertical-align: top;\n",
       "    }\n",
       "</style>\n",
       "<table border=\"1\" class=\"dataframe\">\n",
       "  <thead>\n",
       "    <tr style=\"text-align: right;\">\n",
       "      <th></th>\n",
       "      <th>Deg Name</th>\n",
       "      <th>cumPercentages</th>\n",
       "    </tr>\n",
       "    <tr>\n",
       "      <th>DegID</th>\n",
       "      <th></th>\n",
       "      <th></th>\n",
       "    </tr>\n",
       "  </thead>\n",
       "  <tbody>\n",
       "    <tr>\n",
       "      <th>PCIP01</th>\n",
       "      <td>Agriculture, Agriculture Operations, and Relat...</td>\n",
       "      <td>10.2394</td>\n",
       "    </tr>\n",
       "    <tr>\n",
       "      <th>PCIP03</th>\n",
       "      <td>Natural Resources and Conservation</td>\n",
       "      <td>12.6760</td>\n",
       "    </tr>\n",
       "    <tr>\n",
       "      <th>PCIP04</th>\n",
       "      <td>Architecture and Related Services</td>\n",
       "      <td>4.8419</td>\n",
       "    </tr>\n",
       "    <tr>\n",
       "      <th>PCIP05</th>\n",
       "      <td>Area, Ethnic, Cultural, Gender, and Group Studies</td>\n",
       "      <td>4.4965</td>\n",
       "    </tr>\n",
       "  </tbody>\n",
       "</table>\n",
       "</div>"
      ],
      "text/plain": [
       "                                                 Deg Name  cumPercentages\n",
       "DegID                                                                    \n",
       "PCIP01  Agriculture, Agriculture Operations, and Relat...         10.2394\n",
       "PCIP03                 Natural Resources and Conservation         12.6760\n",
       "PCIP04                  Architecture and Related Services          4.8419\n",
       "PCIP05  Area, Ethnic, Cultural, Gender, and Group Studies          4.4965"
      ]
     },
     "execution_count": 52,
     "metadata": {},
     "output_type": "execute_result"
    }
   ],
   "source": [
    "dfDegreeData['cumPercentages'] = cumMajTotals\n",
    "dfDegreeData.head(4)"
   ]
  },
  {
   "cell_type": "code",
   "execution_count": 53,
   "metadata": {
    "collapsed": false,
    "deletable": true,
    "editable": true
   },
   "outputs": [
    {
     "data": {
      "text/html": [
       "<div>\n",
       "<style>\n",
       "    .dataframe thead tr:only-child th {\n",
       "        text-align: right;\n",
       "    }\n",
       "\n",
       "    .dataframe thead th {\n",
       "        text-align: left;\n",
       "    }\n",
       "\n",
       "    .dataframe tbody tr th {\n",
       "        vertical-align: top;\n",
       "    }\n",
       "</style>\n",
       "<table border=\"1\" class=\"dataframe\">\n",
       "  <thead>\n",
       "    <tr style=\"text-align: right;\">\n",
       "      <th></th>\n",
       "      <th>Deg Name</th>\n",
       "      <th>cumPercentages</th>\n",
       "      <th>ActualPercent</th>\n",
       "    </tr>\n",
       "    <tr>\n",
       "      <th>DegID</th>\n",
       "      <th></th>\n",
       "      <th></th>\n",
       "      <th></th>\n",
       "    </tr>\n",
       "  </thead>\n",
       "  <tbody>\n",
       "    <tr>\n",
       "      <th>PCIP01</th>\n",
       "      <td>Agriculture, Agriculture Operations, and Relat...</td>\n",
       "      <td>10.2394</td>\n",
       "      <td>0.005660</td>\n",
       "    </tr>\n",
       "    <tr>\n",
       "      <th>PCIP03</th>\n",
       "      <td>Natural Resources and Conservation</td>\n",
       "      <td>12.6760</td>\n",
       "      <td>0.007007</td>\n",
       "    </tr>\n",
       "    <tr>\n",
       "      <th>PCIP04</th>\n",
       "      <td>Architecture and Related Services</td>\n",
       "      <td>4.8419</td>\n",
       "      <td>0.002677</td>\n",
       "    </tr>\n",
       "    <tr>\n",
       "      <th>PCIP05</th>\n",
       "      <td>Area, Ethnic, Cultural, Gender, and Group Studies</td>\n",
       "      <td>4.4965</td>\n",
       "      <td>0.002486</td>\n",
       "    </tr>\n",
       "  </tbody>\n",
       "</table>\n",
       "</div>"
      ],
      "text/plain": [
       "                                                 Deg Name  cumPercentages  \\\n",
       "DegID                                                                       \n",
       "PCIP01  Agriculture, Agriculture Operations, and Relat...         10.2394   \n",
       "PCIP03                 Natural Resources and Conservation         12.6760   \n",
       "PCIP04                  Architecture and Related Services          4.8419   \n",
       "PCIP05  Area, Ethnic, Cultural, Gender, and Group Studies          4.4965   \n",
       "\n",
       "        ActualPercent  \n",
       "DegID                  \n",
       "PCIP01       0.005660  \n",
       "PCIP03       0.007007  \n",
       "PCIP04       0.002677  \n",
       "PCIP05       0.002486  "
      ]
     },
     "execution_count": 53,
     "metadata": {},
     "output_type": "execute_result"
    }
   ],
   "source": [
    "dfDegreeData['ActualPercent'] = (dfDegreeData['cumPercentages'] / dfDegreeData['cumPercentages'].sum())\n",
    "dfDegreeData.head(4)"
   ]
  },
  {
   "cell_type": "code",
   "execution_count": 54,
   "metadata": {
    "collapsed": false,
    "deletable": true,
    "editable": true
   },
   "outputs": [
    {
     "data": {
      "text/plain": [
       "0.19881313511566498"
      ]
     },
     "execution_count": 54,
     "metadata": {},
     "output_type": "execute_result"
    }
   ],
   "source": [
    "MajorTotals['PCIP52'].sum() / (MajorTotals[degreeColumns].sum()).sum()"
   ]
  },
  {
   "cell_type": "code",
   "execution_count": 55,
   "metadata": {
    "collapsed": false,
    "deletable": true,
    "editable": true
   },
   "outputs": [
    {
     "data": {
      "text/plain": [
       "'Business, Management, Marketing, and Related Support Services'"
      ]
     },
     "execution_count": 55,
     "metadata": {},
     "output_type": "execute_result"
    }
   ],
   "source": [
    "dfDegreeData.loc['PCIP52','Deg Name']"
   ]
  },
  {
   "cell_type": "code",
   "execution_count": null,
   "metadata": {
    "collapsed": true,
    "deletable": true,
    "editable": true
   },
   "outputs": [],
   "source": []
  },
  {
   "cell_type": "code",
   "execution_count": 56,
   "metadata": {
    "collapsed": false,
    "deletable": true,
    "editable": true
   },
   "outputs": [
    {
     "data": {
      "text/plain": [
       "2226"
      ]
     },
     "execution_count": 56,
     "metadata": {},
     "output_type": "execute_result"
    }
   ],
   "source": [
    "AllMajors = len(dfSchools[((dfSchools['HIGHDEG'] >= 3) &\n",
    "                           (dfSchools['CCUGPROF'] >= 6))])\n",
    "AllMajors"
   ]
  },
  {
   "cell_type": "markdown",
   "metadata": {
    "deletable": true,
    "editable": true
   },
   "source": [
    "### Filter Schoold data for colleges offering 4-yr Undegraduate Business degrees"
   ]
  },
  {
   "cell_type": "code",
   "execution_count": 57,
   "metadata": {
    "collapsed": false,
    "deletable": true,
    "editable": true
   },
   "outputs": [
    {
     "data": {
      "text/html": [
       "<div>\n",
       "<style>\n",
       "    .dataframe thead tr:only-child th {\n",
       "        text-align: right;\n",
       "    }\n",
       "\n",
       "    .dataframe thead th {\n",
       "        text-align: left;\n",
       "    }\n",
       "\n",
       "    .dataframe tbody tr th {\n",
       "        vertical-align: top;\n",
       "    }\n",
       "</style>\n",
       "<table border=\"1\" class=\"dataframe\">\n",
       "  <thead>\n",
       "    <tr style=\"text-align: right;\">\n",
       "      <th></th>\n",
       "      <th>UNITID</th>\n",
       "      <th>INSTNM</th>\n",
       "      <th>CITY</th>\n",
       "      <th>STABBR</th>\n",
       "      <th>ZIP</th>\n",
       "      <th>HIGHDEG</th>\n",
       "      <th>CONTROL</th>\n",
       "      <th>REGION</th>\n",
       "      <th>LATITUDE</th>\n",
       "      <th>LONGITUDE</th>\n",
       "      <th>...</th>\n",
       "      <th>PCIP48</th>\n",
       "      <th>PCIP49</th>\n",
       "      <th>PCIP50</th>\n",
       "      <th>PCIP51</th>\n",
       "      <th>PCIP52</th>\n",
       "      <th>PCIP54</th>\n",
       "      <th>CIP52BACHL</th>\n",
       "      <th>COSTT4_A</th>\n",
       "      <th>COSTT4_P</th>\n",
       "      <th>PCTPELL</th>\n",
       "    </tr>\n",
       "  </thead>\n",
       "  <tbody>\n",
       "    <tr>\n",
       "      <th>0</th>\n",
       "      <td>100654</td>\n",
       "      <td>Alabama A &amp; M University</td>\n",
       "      <td>Normal</td>\n",
       "      <td>AL</td>\n",
       "      <td>35762</td>\n",
       "      <td>4</td>\n",
       "      <td>1</td>\n",
       "      <td>5</td>\n",
       "      <td>34.783368</td>\n",
       "      <td>-86.568502</td>\n",
       "      <td>...</td>\n",
       "      <td>0.0</td>\n",
       "      <td>0.0</td>\n",
       "      <td>0.0258</td>\n",
       "      <td>0.0000</td>\n",
       "      <td>0.1479</td>\n",
       "      <td>0.0000</td>\n",
       "      <td>2.0</td>\n",
       "      <td>20809.0</td>\n",
       "      <td>NaN</td>\n",
       "      <td>0.7249</td>\n",
       "    </tr>\n",
       "    <tr>\n",
       "      <th>1</th>\n",
       "      <td>100663</td>\n",
       "      <td>University of Alabama at Birmingham</td>\n",
       "      <td>Birmingham</td>\n",
       "      <td>AL</td>\n",
       "      <td>35294-0110</td>\n",
       "      <td>4</td>\n",
       "      <td>1</td>\n",
       "      <td>5</td>\n",
       "      <td>33.502230</td>\n",
       "      <td>-86.809170</td>\n",
       "      <td>...</td>\n",
       "      <td>0.0</td>\n",
       "      <td>0.0</td>\n",
       "      <td>0.0376</td>\n",
       "      <td>0.2231</td>\n",
       "      <td>0.1837</td>\n",
       "      <td>0.0188</td>\n",
       "      <td>1.0</td>\n",
       "      <td>22232.0</td>\n",
       "      <td>NaN</td>\n",
       "      <td>0.3505</td>\n",
       "    </tr>\n",
       "    <tr>\n",
       "      <th>3</th>\n",
       "      <td>100706</td>\n",
       "      <td>University of Alabama in Huntsville</td>\n",
       "      <td>Huntsville</td>\n",
       "      <td>AL</td>\n",
       "      <td>35899</td>\n",
       "      <td>4</td>\n",
       "      <td>1</td>\n",
       "      <td>5</td>\n",
       "      <td>34.722818</td>\n",
       "      <td>-86.638420</td>\n",
       "      <td>...</td>\n",
       "      <td>0.0</td>\n",
       "      <td>0.0</td>\n",
       "      <td>0.0288</td>\n",
       "      <td>0.1892</td>\n",
       "      <td>0.2072</td>\n",
       "      <td>0.0117</td>\n",
       "      <td>1.0</td>\n",
       "      <td>20999.0</td>\n",
       "      <td>NaN</td>\n",
       "      <td>0.3179</td>\n",
       "    </tr>\n",
       "    <tr>\n",
       "      <th>4</th>\n",
       "      <td>100724</td>\n",
       "      <td>Alabama State University</td>\n",
       "      <td>Montgomery</td>\n",
       "      <td>AL</td>\n",
       "      <td>36104-0271</td>\n",
       "      <td>4</td>\n",
       "      <td>1</td>\n",
       "      <td>5</td>\n",
       "      <td>32.364317</td>\n",
       "      <td>-86.295677</td>\n",
       "      <td>...</td>\n",
       "      <td>0.0</td>\n",
       "      <td>0.0</td>\n",
       "      <td>0.0473</td>\n",
       "      <td>0.0926</td>\n",
       "      <td>0.0983</td>\n",
       "      <td>0.0113</td>\n",
       "      <td>1.0</td>\n",
       "      <td>18100.0</td>\n",
       "      <td>NaN</td>\n",
       "      <td>0.7567</td>\n",
       "    </tr>\n",
       "  </tbody>\n",
       "</table>\n",
       "<p>4 rows × 56 columns</p>\n",
       "</div>"
      ],
      "text/plain": [
       "   UNITID                               INSTNM        CITY STABBR         ZIP  \\\n",
       "0  100654             Alabama A & M University      Normal     AL       35762   \n",
       "1  100663  University of Alabama at Birmingham  Birmingham     AL  35294-0110   \n",
       "3  100706  University of Alabama in Huntsville  Huntsville     AL       35899   \n",
       "4  100724             Alabama State University  Montgomery     AL  36104-0271   \n",
       "\n",
       "   HIGHDEG  CONTROL  REGION   LATITUDE  LONGITUDE   ...     PCIP48  PCIP49  \\\n",
       "0        4        1       5  34.783368 -86.568502   ...        0.0     0.0   \n",
       "1        4        1       5  33.502230 -86.809170   ...        0.0     0.0   \n",
       "3        4        1       5  34.722818 -86.638420   ...        0.0     0.0   \n",
       "4        4        1       5  32.364317 -86.295677   ...        0.0     0.0   \n",
       "\n",
       "   PCIP50  PCIP51  PCIP52  PCIP54  CIP52BACHL  COSTT4_A  COSTT4_P  PCTPELL  \n",
       "0  0.0258  0.0000  0.1479  0.0000         2.0   20809.0       NaN   0.7249  \n",
       "1  0.0376  0.2231  0.1837  0.0188         1.0   22232.0       NaN   0.3505  \n",
       "3  0.0288  0.1892  0.2072  0.0117         1.0   20999.0       NaN   0.3179  \n",
       "4  0.0473  0.0926  0.0983  0.0113         1.0   18100.0       NaN   0.7567  \n",
       "\n",
       "[4 rows x 56 columns]"
      ]
     },
     "execution_count": 57,
     "metadata": {},
     "output_type": "execute_result"
    }
   ],
   "source": [
    "dfSchools = dfSchools[((dfSchools['HIGHDEG'] >= 3) &     # Colleges offering Bachelors degrees and higher\n",
    " (dfSchools['CCUGPROF'] >= 6) &    # 4 Year Undegraduate programs\n",
    "(dfSchools['PCIP52'] > 0) &        # % of Business Degrees awarded greater than 0\n",
    " (dfSchools['CIP52BACHL'] > 0))]    # Number of Business Bachelors Degrees awarded greater than 0\n",
    "dfSchools.head(4)"
   ]
  },
  {
   "cell_type": "code",
   "execution_count": 58,
   "metadata": {
    "collapsed": false,
    "deletable": true,
    "editable": true
   },
   "outputs": [
    {
     "data": {
      "text/plain": [
       "1775"
      ]
     },
     "execution_count": 58,
     "metadata": {},
     "output_type": "execute_result"
    }
   ],
   "source": [
    "len(dfSchools) # Total number of records after filtering"
   ]
  },
  {
   "cell_type": "markdown",
   "metadata": {
    "deletable": true,
    "editable": true
   },
   "source": [
    "### Modify column names"
   ]
  },
  {
   "cell_type": "code",
   "execution_count": 59,
   "metadata": {
    "ExecuteTime": {
     "end_time": "2017-10-03T03:44:17.396957Z",
     "start_time": "2017-10-03T03:44:17.366975Z"
    },
    "collapsed": false,
    "deletable": true,
    "editable": true
   },
   "outputs": [
    {
     "data": {
      "text/html": [
       "<div>\n",
       "<style>\n",
       "    .dataframe thead tr:only-child th {\n",
       "        text-align: right;\n",
       "    }\n",
       "\n",
       "    .dataframe thead th {\n",
       "        text-align: left;\n",
       "    }\n",
       "\n",
       "    .dataframe tbody tr th {\n",
       "        vertical-align: top;\n",
       "    }\n",
       "</style>\n",
       "<table border=\"1\" class=\"dataframe\">\n",
       "  <thead>\n",
       "    <tr style=\"text-align: right;\">\n",
       "      <th></th>\n",
       "      <th>Unit ID</th>\n",
       "      <th>Institution Name</th>\n",
       "      <th>City</th>\n",
       "      <th>State</th>\n",
       "      <th>Zip Code</th>\n",
       "      <th>High Degree</th>\n",
       "      <th>Institution Type</th>\n",
       "      <th>Region ID</th>\n",
       "      <th>Latitude</th>\n",
       "      <th>Longitude</th>\n",
       "      <th>...</th>\n",
       "      <th>PCIP48</th>\n",
       "      <th>PCIP49</th>\n",
       "      <th>PCIP50</th>\n",
       "      <th>PCIP51</th>\n",
       "      <th>PCIP52</th>\n",
       "      <th>PCIP54</th>\n",
       "      <th># of Business Degrees</th>\n",
       "      <th>Attendance Cost - Academic Yr</th>\n",
       "      <th>Attendance Cost - Program Yr</th>\n",
       "      <th>% of Pell Grant Awards</th>\n",
       "    </tr>\n",
       "  </thead>\n",
       "  <tbody>\n",
       "    <tr>\n",
       "      <th>0</th>\n",
       "      <td>100654</td>\n",
       "      <td>Alabama A &amp; M University</td>\n",
       "      <td>Normal</td>\n",
       "      <td>AL</td>\n",
       "      <td>35762</td>\n",
       "      <td>4</td>\n",
       "      <td>1</td>\n",
       "      <td>5</td>\n",
       "      <td>34.783368</td>\n",
       "      <td>-86.568502</td>\n",
       "      <td>...</td>\n",
       "      <td>0.0</td>\n",
       "      <td>0.0</td>\n",
       "      <td>0.0258</td>\n",
       "      <td>0.0000</td>\n",
       "      <td>0.1479</td>\n",
       "      <td>0.0000</td>\n",
       "      <td>2.0</td>\n",
       "      <td>20809.0</td>\n",
       "      <td>NaN</td>\n",
       "      <td>0.7249</td>\n",
       "    </tr>\n",
       "    <tr>\n",
       "      <th>1</th>\n",
       "      <td>100663</td>\n",
       "      <td>University of Alabama at Birmingham</td>\n",
       "      <td>Birmingham</td>\n",
       "      <td>AL</td>\n",
       "      <td>35294-0110</td>\n",
       "      <td>4</td>\n",
       "      <td>1</td>\n",
       "      <td>5</td>\n",
       "      <td>33.502230</td>\n",
       "      <td>-86.809170</td>\n",
       "      <td>...</td>\n",
       "      <td>0.0</td>\n",
       "      <td>0.0</td>\n",
       "      <td>0.0376</td>\n",
       "      <td>0.2231</td>\n",
       "      <td>0.1837</td>\n",
       "      <td>0.0188</td>\n",
       "      <td>1.0</td>\n",
       "      <td>22232.0</td>\n",
       "      <td>NaN</td>\n",
       "      <td>0.3505</td>\n",
       "    </tr>\n",
       "    <tr>\n",
       "      <th>3</th>\n",
       "      <td>100706</td>\n",
       "      <td>University of Alabama in Huntsville</td>\n",
       "      <td>Huntsville</td>\n",
       "      <td>AL</td>\n",
       "      <td>35899</td>\n",
       "      <td>4</td>\n",
       "      <td>1</td>\n",
       "      <td>5</td>\n",
       "      <td>34.722818</td>\n",
       "      <td>-86.638420</td>\n",
       "      <td>...</td>\n",
       "      <td>0.0</td>\n",
       "      <td>0.0</td>\n",
       "      <td>0.0288</td>\n",
       "      <td>0.1892</td>\n",
       "      <td>0.2072</td>\n",
       "      <td>0.0117</td>\n",
       "      <td>1.0</td>\n",
       "      <td>20999.0</td>\n",
       "      <td>NaN</td>\n",
       "      <td>0.3179</td>\n",
       "    </tr>\n",
       "    <tr>\n",
       "      <th>4</th>\n",
       "      <td>100724</td>\n",
       "      <td>Alabama State University</td>\n",
       "      <td>Montgomery</td>\n",
       "      <td>AL</td>\n",
       "      <td>36104-0271</td>\n",
       "      <td>4</td>\n",
       "      <td>1</td>\n",
       "      <td>5</td>\n",
       "      <td>32.364317</td>\n",
       "      <td>-86.295677</td>\n",
       "      <td>...</td>\n",
       "      <td>0.0</td>\n",
       "      <td>0.0</td>\n",
       "      <td>0.0473</td>\n",
       "      <td>0.0926</td>\n",
       "      <td>0.0983</td>\n",
       "      <td>0.0113</td>\n",
       "      <td>1.0</td>\n",
       "      <td>18100.0</td>\n",
       "      <td>NaN</td>\n",
       "      <td>0.7567</td>\n",
       "    </tr>\n",
       "  </tbody>\n",
       "</table>\n",
       "<p>4 rows × 56 columns</p>\n",
       "</div>"
      ],
      "text/plain": [
       "   Unit ID                     Institution Name        City State    Zip Code  \\\n",
       "0   100654             Alabama A & M University      Normal    AL       35762   \n",
       "1   100663  University of Alabama at Birmingham  Birmingham    AL  35294-0110   \n",
       "3   100706  University of Alabama in Huntsville  Huntsville    AL       35899   \n",
       "4   100724             Alabama State University  Montgomery    AL  36104-0271   \n",
       "\n",
       "   High Degree  Institution Type  Region ID   Latitude  Longitude  \\\n",
       "0            4                 1          5  34.783368 -86.568502   \n",
       "1            4                 1          5  33.502230 -86.809170   \n",
       "3            4                 1          5  34.722818 -86.638420   \n",
       "4            4                 1          5  32.364317 -86.295677   \n",
       "\n",
       "            ...            PCIP48  PCIP49  PCIP50  PCIP51  PCIP52  PCIP54  \\\n",
       "0           ...               0.0     0.0  0.0258  0.0000  0.1479  0.0000   \n",
       "1           ...               0.0     0.0  0.0376  0.2231  0.1837  0.0188   \n",
       "3           ...               0.0     0.0  0.0288  0.1892  0.2072  0.0117   \n",
       "4           ...               0.0     0.0  0.0473  0.0926  0.0983  0.0113   \n",
       "\n",
       "   # of Business Degrees  Attendance Cost - Academic Yr  \\\n",
       "0                    2.0                        20809.0   \n",
       "1                    1.0                        22232.0   \n",
       "3                    1.0                        20999.0   \n",
       "4                    1.0                        18100.0   \n",
       "\n",
       "   Attendance Cost - Program Yr  % of Pell Grant Awards  \n",
       "0                           NaN                  0.7249  \n",
       "1                           NaN                  0.3505  \n",
       "3                           NaN                  0.3179  \n",
       "4                           NaN                  0.7567  \n",
       "\n",
       "[4 rows x 56 columns]"
      ]
     },
     "execution_count": 59,
     "metadata": {},
     "output_type": "execute_result"
    }
   ],
   "source": [
    "dfSchools.columns=(['Unit ID',\\\n",
    "            'Institution Name',\\\n",
    "            'City',\\\n",
    "            'State',\\\n",
    "            'Zip Code',\\\n",
    "            'High Degree',\\\n",
    "            'Institution Type',\\\n",
    "            'Region ID',\\\n",
    "            'Latitude',\\\n",
    "            'Longitude',\\\n",
    "            'Program Type',\\\n",
    "            'Admission Rate',\\\n",
    "            'ACT Score',\\\n",
    "            'SAT Average'] +\\\n",
    "            degreeColumns +\\\n",
    "            ['# of Business Degrees',\\\n",
    "            'Attendance Cost - Academic Yr',\\\n",
    "            'Attendance Cost - Program Yr',\\\n",
    "            '% of Pell Grant Awards'])\n",
    "dfSchools.head(4)"
   ]
  },
  {
   "cell_type": "markdown",
   "metadata": {
    "deletable": true,
    "editable": true
   },
   "source": [
    "### Add new column to identify Schools by region\n",
    "    -New England (CT, ME, MA, NH, RI, VT)\n",
    "    -Mid East (DE, DC, MD, NJ, NY, PA)\n",
    "    -Great Lakes (IL, IN, MI, OH, WI)\n",
    "    -Plains (IA, KS, MN, MO, NE, ND, SD)\n",
    "    -Southeast (AL, AR, FL, GA, KY, LA, MS, NC, SC, TN, VA, WV)\n",
    "    -Southwest (AZ, NM, OK, TX)\n",
    "    -Rocky Mountains (CO, ID, MT, UT, WY)\n",
    "    -Far West (AK, CA, HI, NV, OR, WA)\n",
    "    -Outlying Areas (AS, FM, GU, MH, MP, PR, PW, VI)\n"
   ]
  },
  {
   "cell_type": "code",
   "execution_count": 60,
   "metadata": {
    "collapsed": false,
    "deletable": true,
    "editable": true
   },
   "outputs": [],
   "source": [
    "def assignRegion(x):\n",
    "    if (x == 1):\n",
    "        return 'New England'\n",
    "    elif (x == 2):\n",
    "        return 'Mid East'\n",
    "    elif (x == 3):\n",
    "        return 'Great Lakes'\n",
    "    elif (x == 4):\n",
    "        return 'Plains'\n",
    "    elif (x == 5):\n",
    "        return 'Southeast'\n",
    "    elif (x == 6):\n",
    "        return 'Southwest'\n",
    "    elif (x == 7):\n",
    "        return 'Rocky Mountains'\n",
    "    elif (x == 8):\n",
    "        return 'Far West'\n",
    "    elif (x == 9):\n",
    "        return 'Outlying Areas'"
   ]
  },
  {
   "cell_type": "code",
   "execution_count": 61,
   "metadata": {
    "collapsed": false,
    "deletable": true,
    "editable": true
   },
   "outputs": [
    {
     "data": {
      "text/html": [
       "<div>\n",
       "<style>\n",
       "    .dataframe thead tr:only-child th {\n",
       "        text-align: right;\n",
       "    }\n",
       "\n",
       "    .dataframe thead th {\n",
       "        text-align: left;\n",
       "    }\n",
       "\n",
       "    .dataframe tbody tr th {\n",
       "        vertical-align: top;\n",
       "    }\n",
       "</style>\n",
       "<table border=\"1\" class=\"dataframe\">\n",
       "  <thead>\n",
       "    <tr style=\"text-align: right;\">\n",
       "      <th></th>\n",
       "      <th>Unit ID</th>\n",
       "      <th>Institution Name</th>\n",
       "      <th>City</th>\n",
       "      <th>State</th>\n",
       "      <th>Zip Code</th>\n",
       "      <th>High Degree</th>\n",
       "      <th>Institution Type</th>\n",
       "      <th>Region ID</th>\n",
       "      <th>Latitude</th>\n",
       "      <th>Longitude</th>\n",
       "      <th>...</th>\n",
       "      <th>PCIP49</th>\n",
       "      <th>PCIP50</th>\n",
       "      <th>PCIP51</th>\n",
       "      <th>PCIP52</th>\n",
       "      <th>PCIP54</th>\n",
       "      <th># of Business Degrees</th>\n",
       "      <th>Attendance Cost - Academic Yr</th>\n",
       "      <th>Attendance Cost - Program Yr</th>\n",
       "      <th>% of Pell Grant Awards</th>\n",
       "      <th>Region</th>\n",
       "    </tr>\n",
       "  </thead>\n",
       "  <tbody>\n",
       "    <tr>\n",
       "      <th>0</th>\n",
       "      <td>100654</td>\n",
       "      <td>Alabama A &amp; M University</td>\n",
       "      <td>Normal</td>\n",
       "      <td>AL</td>\n",
       "      <td>35762</td>\n",
       "      <td>4</td>\n",
       "      <td>1</td>\n",
       "      <td>5</td>\n",
       "      <td>34.783368</td>\n",
       "      <td>-86.568502</td>\n",
       "      <td>...</td>\n",
       "      <td>0.0</td>\n",
       "      <td>0.0258</td>\n",
       "      <td>0.0000</td>\n",
       "      <td>0.1479</td>\n",
       "      <td>0.0000</td>\n",
       "      <td>2.0</td>\n",
       "      <td>20809.0</td>\n",
       "      <td>NaN</td>\n",
       "      <td>0.7249</td>\n",
       "      <td>Southeast</td>\n",
       "    </tr>\n",
       "    <tr>\n",
       "      <th>1</th>\n",
       "      <td>100663</td>\n",
       "      <td>University of Alabama at Birmingham</td>\n",
       "      <td>Birmingham</td>\n",
       "      <td>AL</td>\n",
       "      <td>35294-0110</td>\n",
       "      <td>4</td>\n",
       "      <td>1</td>\n",
       "      <td>5</td>\n",
       "      <td>33.502230</td>\n",
       "      <td>-86.809170</td>\n",
       "      <td>...</td>\n",
       "      <td>0.0</td>\n",
       "      <td>0.0376</td>\n",
       "      <td>0.2231</td>\n",
       "      <td>0.1837</td>\n",
       "      <td>0.0188</td>\n",
       "      <td>1.0</td>\n",
       "      <td>22232.0</td>\n",
       "      <td>NaN</td>\n",
       "      <td>0.3505</td>\n",
       "      <td>Southeast</td>\n",
       "    </tr>\n",
       "    <tr>\n",
       "      <th>3</th>\n",
       "      <td>100706</td>\n",
       "      <td>University of Alabama in Huntsville</td>\n",
       "      <td>Huntsville</td>\n",
       "      <td>AL</td>\n",
       "      <td>35899</td>\n",
       "      <td>4</td>\n",
       "      <td>1</td>\n",
       "      <td>5</td>\n",
       "      <td>34.722818</td>\n",
       "      <td>-86.638420</td>\n",
       "      <td>...</td>\n",
       "      <td>0.0</td>\n",
       "      <td>0.0288</td>\n",
       "      <td>0.1892</td>\n",
       "      <td>0.2072</td>\n",
       "      <td>0.0117</td>\n",
       "      <td>1.0</td>\n",
       "      <td>20999.0</td>\n",
       "      <td>NaN</td>\n",
       "      <td>0.3179</td>\n",
       "      <td>Southeast</td>\n",
       "    </tr>\n",
       "    <tr>\n",
       "      <th>4</th>\n",
       "      <td>100724</td>\n",
       "      <td>Alabama State University</td>\n",
       "      <td>Montgomery</td>\n",
       "      <td>AL</td>\n",
       "      <td>36104-0271</td>\n",
       "      <td>4</td>\n",
       "      <td>1</td>\n",
       "      <td>5</td>\n",
       "      <td>32.364317</td>\n",
       "      <td>-86.295677</td>\n",
       "      <td>...</td>\n",
       "      <td>0.0</td>\n",
       "      <td>0.0473</td>\n",
       "      <td>0.0926</td>\n",
       "      <td>0.0983</td>\n",
       "      <td>0.0113</td>\n",
       "      <td>1.0</td>\n",
       "      <td>18100.0</td>\n",
       "      <td>NaN</td>\n",
       "      <td>0.7567</td>\n",
       "      <td>Southeast</td>\n",
       "    </tr>\n",
       "  </tbody>\n",
       "</table>\n",
       "<p>4 rows × 57 columns</p>\n",
       "</div>"
      ],
      "text/plain": [
       "   Unit ID                     Institution Name        City State    Zip Code  \\\n",
       "0   100654             Alabama A & M University      Normal    AL       35762   \n",
       "1   100663  University of Alabama at Birmingham  Birmingham    AL  35294-0110   \n",
       "3   100706  University of Alabama in Huntsville  Huntsville    AL       35899   \n",
       "4   100724             Alabama State University  Montgomery    AL  36104-0271   \n",
       "\n",
       "   High Degree  Institution Type  Region ID   Latitude  Longitude    ...      \\\n",
       "0            4                 1          5  34.783368 -86.568502    ...       \n",
       "1            4                 1          5  33.502230 -86.809170    ...       \n",
       "3            4                 1          5  34.722818 -86.638420    ...       \n",
       "4            4                 1          5  32.364317 -86.295677    ...       \n",
       "\n",
       "   PCIP49  PCIP50  PCIP51  PCIP52  PCIP54  # of Business Degrees  \\\n",
       "0     0.0  0.0258  0.0000  0.1479  0.0000                    2.0   \n",
       "1     0.0  0.0376  0.2231  0.1837  0.0188                    1.0   \n",
       "3     0.0  0.0288  0.1892  0.2072  0.0117                    1.0   \n",
       "4     0.0  0.0473  0.0926  0.0983  0.0113                    1.0   \n",
       "\n",
       "   Attendance Cost - Academic Yr  Attendance Cost - Program Yr  \\\n",
       "0                        20809.0                           NaN   \n",
       "1                        22232.0                           NaN   \n",
       "3                        20999.0                           NaN   \n",
       "4                        18100.0                           NaN   \n",
       "\n",
       "   % of Pell Grant Awards     Region  \n",
       "0                  0.7249  Southeast  \n",
       "1                  0.3505  Southeast  \n",
       "3                  0.3179  Southeast  \n",
       "4                  0.7567  Southeast  \n",
       "\n",
       "[4 rows x 57 columns]"
      ]
     },
     "execution_count": 61,
     "metadata": {},
     "output_type": "execute_result"
    }
   ],
   "source": [
    "dfSchools['Region'] = np.nan\n",
    "dfSchools['Region'] = dfSchools['Region ID'].apply(assignRegion)\n",
    "dfSchools.head(4)"
   ]
  },
  {
   "cell_type": "markdown",
   "metadata": {
    "deletable": true,
    "editable": true
   },
   "source": [
    "## Import the referenced raw PayScale.com source data"
   ]
  },
  {
   "cell_type": "code",
   "execution_count": 62,
   "metadata": {
    "collapsed": false,
    "deletable": true,
    "editable": true
   },
   "outputs": [
    {
     "data": {
      "text/html": [
       "<div>\n",
       "<style>\n",
       "    .dataframe thead tr:only-child th {\n",
       "        text-align: right;\n",
       "    }\n",
       "\n",
       "    .dataframe thead th {\n",
       "        text-align: left;\n",
       "    }\n",
       "\n",
       "    .dataframe tbody tr th {\n",
       "        vertical-align: top;\n",
       "    }\n",
       "</style>\n",
       "<table border=\"1\" class=\"dataframe\">\n",
       "  <thead>\n",
       "    <tr style=\"text-align: right;\">\n",
       "      <th></th>\n",
       "      <th>OrigOrder</th>\n",
       "      <th>Rank</th>\n",
       "      <th>School Name</th>\n",
       "      <th>School Type</th>\n",
       "      <th>Early Career Pay</th>\n",
       "      <th>Mid-Career Pay</th>\n",
       "      <th>% High Meaning</th>\n",
       "      <th>% STEM Degrees</th>\n",
       "    </tr>\n",
       "  </thead>\n",
       "  <tbody>\n",
       "    <tr>\n",
       "      <th>0</th>\n",
       "      <td>1</td>\n",
       "      <td>1</td>\n",
       "      <td>Harvey Mudd College</td>\n",
       "      <td>Engineering, Liberal Arts School, Private School</td>\n",
       "      <td>$81,000</td>\n",
       "      <td>$155,800</td>\n",
       "      <td>58%</td>\n",
       "      <td>85%</td>\n",
       "    </tr>\n",
       "    <tr>\n",
       "      <th>1</th>\n",
       "      <td>2</td>\n",
       "      <td>2</td>\n",
       "      <td>Princeton University</td>\n",
       "      <td>Ivy League, Private School, Research Universit...</td>\n",
       "      <td>$69,800</td>\n",
       "      <td>$147,800</td>\n",
       "      <td>44%</td>\n",
       "      <td>47%</td>\n",
       "    </tr>\n",
       "    <tr>\n",
       "      <th>2</th>\n",
       "      <td>3</td>\n",
       "      <td>3</td>\n",
       "      <td>Massachusetts Institute of Technology</td>\n",
       "      <td>Engineering, Private School, Research University</td>\n",
       "      <td>$81,500</td>\n",
       "      <td>$147,000</td>\n",
       "      <td>53%</td>\n",
       "      <td>69%</td>\n",
       "    </tr>\n",
       "    <tr>\n",
       "      <th>3</th>\n",
       "      <td>4</td>\n",
       "      <td>4</td>\n",
       "      <td>SUNY Maritime College</td>\n",
       "      <td>State School</td>\n",
       "      <td>$71,600</td>\n",
       "      <td>$145,100</td>\n",
       "      <td>52%</td>\n",
       "      <td>35%</td>\n",
       "    </tr>\n",
       "  </tbody>\n",
       "</table>\n",
       "</div>"
      ],
      "text/plain": [
       "   OrigOrder  Rank                            School Name  \\\n",
       "0          1     1                    Harvey Mudd College   \n",
       "1          2     2                   Princeton University   \n",
       "2          3     3  Massachusetts Institute of Technology   \n",
       "3          4     4                  SUNY Maritime College   \n",
       "\n",
       "                                         School Type Early Career Pay  \\\n",
       "0   Engineering, Liberal Arts School, Private School         $81,000    \n",
       "1  Ivy League, Private School, Research Universit...         $69,800    \n",
       "2   Engineering, Private School, Research University         $81,500    \n",
       "3                                       State School         $71,600    \n",
       "\n",
       "  Mid-Career Pay % High Meaning % STEM Degrees  \n",
       "0      $155,800             58%            85%  \n",
       "1      $147,800             44%            47%  \n",
       "2      $147,000             53%            69%  \n",
       "3      $145,100             52%            35%  "
      ]
     },
     "execution_count": 62,
     "metadata": {},
     "output_type": "execute_result"
    }
   ],
   "source": [
    "dfPay = pd.read_csv('PayScale-Data.csv', header=0)\n",
    "dfPay.head(4)"
   ]
  },
  {
   "cell_type": "markdown",
   "metadata": {
    "deletable": true,
    "editable": true
   },
   "source": [
    "## Write Data Frames to \".csv\" file for import into Tableau"
   ]
  },
  {
   "cell_type": "code",
   "execution_count": 63,
   "metadata": {
    "ExecuteTime": {
     "end_time": "2017-10-01T18:08:46.141588Z",
     "start_time": "2017-10-01T18:08:46.113504Z"
    },
    "collapsed": true,
    "deletable": true,
    "editable": true
   },
   "outputs": [],
   "source": [
    "df.to_csv('CollegeRankings.csv')\n",
    "dfSchools.to_csv('CollegeSchools.csv')\n",
    "dfPay.to_csv('CollegeJobPay.csv')\n",
    "dfDegreeData.to_csv('CollegeDegreeData.csv')\n",
    "dfPay.to_csv('CollegePayScale.csv')"
   ]
  },
  {
   "cell_type": "code",
   "execution_count": null,
   "metadata": {
    "collapsed": true,
    "deletable": true,
    "editable": true
   },
   "outputs": [],
   "source": []
  }
 ],
 "metadata": {
  "kernelspec": {
   "display_name": "Python 2",
   "language": "python",
   "name": "python2"
  },
  "language_info": {
   "codemirror_mode": {
    "name": "ipython",
    "version": 2
   },
   "file_extension": ".py",
   "mimetype": "text/x-python",
   "name": "python",
   "nbconvert_exporter": "python",
   "pygments_lexer": "ipython2",
   "version": "2.7.13"
  },
  "toc": {
   "nav_menu": {},
   "number_sections": true,
   "sideBar": true,
   "skip_h1_title": false,
   "toc_cell": false,
   "toc_position": {},
   "toc_section_display": "block",
   "toc_window_display": false
  },
  "varInspector": {
   "cols": {
    "lenName": 16,
    "lenType": 16,
    "lenVar": 40
   },
   "kernels_config": {
    "python": {
     "delete_cmd_postfix": "",
     "delete_cmd_prefix": "del ",
     "library": "var_list.py",
     "varRefreshCmd": "print(var_dic_list())"
    },
    "r": {
     "delete_cmd_postfix": ") ",
     "delete_cmd_prefix": "rm(",
     "library": "var_list.r",
     "varRefreshCmd": "cat(var_dic_list()) "
    }
   },
   "types_to_exclude": [
    "module",
    "function",
    "builtin_function_or_method",
    "instance",
    "_Feature"
   ],
   "window_display": false
  }
 },
 "nbformat": 4,
 "nbformat_minor": 2
}
